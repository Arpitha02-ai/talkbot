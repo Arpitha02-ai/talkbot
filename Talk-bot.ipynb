{
 "cells": [
  {
   "cell_type": "code",
   "execution_count": null,
   "metadata": {},
   "outputs": [
    {
     "name": "stdout",
     "output_type": "stream",
     "text": [
      "ai.yml Training: [####################] 100%\n",
      "botprofile.yml Training: [####################] 100%\n",
      "computers.yml Training: [####################] 100%\n",
      "conversations.yml Training: [####################] 100%\n",
      "emotion.yml Training: [####################] 100%\n",
      "food.yml Training: [####################] 100%\n",
      "gossip.yml Training: [####################] 100%\n",
      "greetings.yml Training: [####################] 100%\n",
      "health.yml Training: [####################] 100%\n",
      "history.yml Training: [####################] 100%\n",
      "humor.yml Training: [####################] 100%\n",
      "literature.yml Training: [####################] 100%\n",
      "money.yml Training: [####################] 100%\n",
      "movies.yml Training: [####################] 100%\n",
      "politics.yml Training: [####################] 100%\n",
      "psychology.yml Training: [####################] 100%\n",
      "science.yml Training: [####################] 100%\n",
      "sports.yml Training: [####################] 100%\n",
      "trivia.yml Training: [####################] 100%\n",
      "Listening\n",
      "You:  good morning\n",
      "Bot:  I am doing well, how about you?\n",
      "Listening\n",
      "You:  good morning\n",
      "Bot:  I am doing well, how about you?\n",
      "Listening\n"
     ]
    }
   ],
   "source": [
    "# Import all the libraries\n",
    "import speech_recognition as sr\n",
    "import pyttsx3\n",
    "from chatterbot import ChatBot\n",
    "from chatterbot.trainers import ChatterBotCorpusTrainer\n",
    "\n",
    "# Create the bot\n",
    "myBot = ChatBot('MyBot')\n",
    "\n",
    "# Create object for speech recognition\n",
    "r1 = sr.Recognizer()\n",
    "r2 = sr.Recognizer()\n",
    "\n",
    "# Set the trainer\n",
    "myBot.set_trainer(ChatterBotCorpusTrainer)\n",
    "\n",
    "# Train the bot\n",
    "myBot.train('chatterbot.corpus.english')\n",
    "\n",
    "# Initialize python text to speech converter\n",
    "person = pyttsx3.init()\n",
    "\n",
    "# An infinite loop to take the voice input from the user\n",
    "while True:\n",
    "    with sr.Microphone() as source:\n",
    "        print('Listening')\n",
    "        try:\n",
    "            audio = r1.listen(source)                   # Record the audio data\n",
    "            # my_input = r2.recognize_sphinx(audio)     # Recognise the audio input\n",
    "            my_input = r1.recognize_google(audio)       # Recognise the voice\n",
    "        except:\n",
    "            my_input = 'good morning'\n",
    "            # print('You: ', my_input)\n",
    "        print('You: ', my_input)\n",
    "        if my_input == 'bye':                  # If input is quit, then quit\n",
    "            break\n",
    "\n",
    "        reply = myBot.get_response(my_input)    # Response by the model\n",
    "        print('Bot: ', reply)\n",
    "        person.say(reply)                       # Response said by the bot\n",
    "        person.runAndWait()\n"
   ]
  }
 ],
 "metadata": {
  "kernelspec": {
   "display_name": "Python 3",
   "language": "python",
   "name": "python3"
  },
  "language_info": {
   "codemirror_mode": {
    "name": "ipython",
    "version": 3
   },
   "file_extension": ".py",
   "mimetype": "text/x-python",
   "name": "python",
   "nbconvert_exporter": "python",
   "pygments_lexer": "ipython3",
   "version": "3.6.4"
  }
 },
 "nbformat": 4,
 "nbformat_minor": 2
}
